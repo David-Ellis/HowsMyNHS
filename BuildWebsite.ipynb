{
 "cells": [
  {
   "cell_type": "markdown",
   "metadata": {},
   "source": [
    "<h1><center>Build <a href=\"https://howsmynhs.co.uk/\">HowsMyNHS</a> website</center></h1>\n",
    "\n",
    "This is the main script used to automatically generate the html for <a href=\"https://howsmynhs.co.uk/\">HowsMyNHS</a>."
   ]
  },
  {
   "cell_type": "code",
   "execution_count": 1,
   "metadata": {},
   "outputs": [],
   "source": [
    "import build_website as bw\n",
    "waiting_data = 'NHSwaiting.npy'\n",
    "bed_data = 'NHSbeds.npy'"
   ]
  },
  {
   "cell_type": "markdown",
   "metadata": {},
   "source": [
    "<h2>Generate Plots</h2>"
   ]
  },
  {
   "cell_type": "code",
   "execution_count": 2,
   "metadata": {},
   "outputs": [
    {
     "name": "stdout",
     "output_type": "stream",
     "text": [
      "Generating 4 hour waiting time graphs... Merged Trust!!\n",
      "Done.\n"
     ]
    }
   ],
   "source": [
    "bw.plotWaitingData(waiting_data)\n",
    "#bw.plotBedData(bed_data)"
   ]
  },
  {
   "cell_type": "markdown",
   "metadata": {},
   "source": [
    "<h2>Make homepage</h2>"
   ]
  },
  {
   "cell_type": "code",
   "execution_count": 2,
   "metadata": {},
   "outputs": [
    {
     "name": "stdout",
     "output_type": "stream",
     "text": [
      "Building homepage... Bedfordshire Hospitals NHS Foundation Trust\n",
      "Done\n"
     ]
    }
   ],
   "source": [
    "bw.MakeHomepage(waiting_data, bed_data)"
   ]
  },
  {
   "cell_type": "markdown",
   "metadata": {},
   "source": [
    "<h2>Make all the other pages</h2>"
   ]
  },
  {
   "cell_type": "code",
   "execution_count": 3,
   "metadata": {},
   "outputs": [
    {
     "name": "stdout",
     "output_type": "stream",
     "text": [
      "Building trust pages... Done.\n"
     ]
    }
   ],
   "source": [
    "bw.build_trust_pages(waiting_data, bed_data)"
   ]
  },
  {
   "cell_type": "code",
   "execution_count": null,
   "metadata": {},
   "outputs": [],
   "source": []
  },
  {
   "cell_type": "code",
   "execution_count": 3,
   "metadata": {},
   "outputs": [
    {
     "data": {
      "text/plain": [
       "array(['England', nan, 'Bedfordshire Hospitals NHS Foundation Trust',\n",
       "       'Cambridge University Hospitals NHS Foundation Trust',\n",
       "       'Clacton Hospital', 'East And North Hertfordshire NHS Trust',\n",
       "       'East Suffolk And North Essex NHS Foundation Trust',\n",
       "       'Fryatt Hospital', 'Hertfordshire Community NHS Trust',\n",
       "       'Herts Urgent Care (Ascots Lane)',\n",
       "       'James Paget University Hospitals NHS Foundation Trust',\n",
       "       'Mid And South Essex NHS Foundation Trust',\n",
       "       'Milton Keynes University Hospital NHS Foundation Trust',\n",
       "       'Norfolk And Norwich University Hospitals NHS Foundation Trust',\n",
       "       'North West Anglia NHS Foundation Trust',\n",
       "       'Putnoe Medical Centre Walk In Centre',\n",
       "       'The Princess Alexandra Hospital NHS Trust',\n",
       "       \"The Queen Elizabeth Hospital, King's Lynn, NHS Foundation Trust\",\n",
       "       'West Hertfordshire Hospitals NHS Trust',\n",
       "       'West Suffolk NHS Foundation Trust',\n",
       "       'Barking, Havering And Redbridge University Hospitals NHS Trust',\n",
       "       'Barts Health NHS Trust', 'Beckenham Beacon Ucc',\n",
       "       'Central London Community Healthcare NHS Trust',\n",
       "       'Chelsea And Westminster Hospital NHS Foundation Trust',\n",
       "       'Croydon Health Services NHS Trust',\n",
       "       'Epsom And St Helier University Hospitals NHS Trust',\n",
       "       \"Guy's And St Thomas' NHS Foundation Trust\", 'Hhcic East Wic',\n",
       "       'Homerton University Hospital NHS Foundation Trust',\n",
       "       'Hounslow And Richmond Community Healthcare NHS Trust',\n",
       "       'Imperial College Healthcare NHS Trust',\n",
       "       \"King's College Hospital NHS Foundation Trust\",\n",
       "       'Kingston Hospital NHS Foundation Trust',\n",
       "       'Lewisham And Greenwich NHS Trust',\n",
       "       'London North West University Healthcare NHS Trust',\n",
       "       'Moorfields Eye Hospital NHS Foundation Trust',\n",
       "       'North East London NHS Foundation Trust',\n",
       "       'North Middlesex University Hospital NHS Trust',\n",
       "       'Royal Brompton & Harefield NHS Foundation Trust',\n",
       "       'Royal Free London NHS Foundation Trust',\n",
       "       'Royal National Orthopaedic Hospital NHS Trust',\n",
       "       \"St George's University Hospitals NHS Foundation Trust\",\n",
       "       'The Hillingdon Hospitals NHS Foundation Trust',\n",
       "       'The Pinn Unregistered Wic',\n",
       "       'University College London Hospitals NHS Foundation Trust',\n",
       "       'Urgent Care Centre (Qms)', 'Whittington Health NHS Trust',\n",
       "       'Assura Vertis Urgent Care Centres (Birmingham)', 'Badger Ltd',\n",
       "       'Birmingham Wic',\n",
       "       \"Birmingham Women's And Children's NHS Foundation Trust\",\n",
       "       'Chesterfield Royal Hospital NHS Foundation Trust',\n",
       "       'Corby Urgent Care Centre',\n",
       "       'Coventry And Warwickshire Partnership NHS Trust',\n",
       "       'Derbyshire Community Health Services NHS Foundation Trust',\n",
       "       'Dhu Health Care C.I.C', 'Erdington GP Health & Wellbeing Wic',\n",
       "       'George Eliot Hospital NHS Trust',\n",
       "       'Kettering General Hospital NHS Foundation Trust',\n",
       "       'Latham House Medical Practice',\n",
       "       'Lincolnshire Community Health Services NHS Trust',\n",
       "       'Llr Ea - The Merlyn Vaz Health & Social Care Centre',\n",
       "       'Loughborough Urgent Care Centre', 'Market Harborough',\n",
       "       'Market Harborough Med.Ctr', 'Melton Mowbray',\n",
       "       'Northampton General Hospital NHS Trust',\n",
       "       'Nottingham Citycare Partnership',\n",
       "       'Nottingham University Hospitals NHS Trust', 'Oadby', 'Oakham',\n",
       "       'Oakham Medical Practice',\n",
       "       'Sandwell And West Birmingham Hospitals NHS Trust',\n",
       "       'Sherwood Forest Hospitals NHS Foundation Trust',\n",
       "       'Shrewsbury And Telford Hospital NHS Trust',\n",
       "       'Shropshire Community Health NHS Trust', 'Sleaford Medical Group',\n",
       "       'South Birmingham GP Walk In Centre',\n",
       "       'South Warwickshire NHS Foundation Trust',\n",
       "       'Summerfield GP Surg & Urgent Care Centre',\n",
       "       'The Dudley Group NHS Foundation Trust',\n",
       "       'The Robert Jones And Agnes Hunt Orthopaedic Hospital NHS Foundation Trust',\n",
       "       'The Royal Wolverhampton NHS Trust',\n",
       "       'United Lincolnshire Hospitals NHS Trust',\n",
       "       'University Hospitals Birmingham NHS Foundation Trust',\n",
       "       'University Hospitals Coventry And Warwickshire NHS Trust',\n",
       "       'University Hospitals Of Derby And Burton NHS Foundation Trust',\n",
       "       'University Hospitals Of Leicester NHS Trust',\n",
       "       'University Hospitals Of North Midlands NHS Trust',\n",
       "       'Walsall Healthcare NHS Trust',\n",
       "       'Worcestershire Acute Hospitals NHS Trust', 'Wye Valley NHS Trust',\n",
       "       'Airedale NHS Foundation Trust',\n",
       "       'Barnsley Hospital NHS Foundation Trust',\n",
       "       'Bradford Teaching Hospitals NHS Foundation Trust',\n",
       "       'Bransholme Health Centre',\n",
       "       'Calderdale And Huddersfield NHS Foundation Trust',\n",
       "       'County Durham And Darlington NHS Foundation Trust',\n",
       "       'Doncaster And Bassetlaw Teaching Hospitals NHS Foundation Trust',\n",
       "       'East Riding Community Hospital',\n",
       "       'Gateshead Health NHS Foundation Trust',\n",
       "       'Goole & District Hospital',\n",
       "       'Harrogate And District NHS Foundation Trust',\n",
       "       'Hull University Teaching Hospitals NHS Trust',\n",
       "       'Humber Teaching NHS Foundation Trust',\n",
       "       'Leeds Teaching Hospitals NHS Trust', 'Local Care Direct',\n",
       "       'Mid Yorkshire Hospitals NHS Trust',\n",
       "       'North Cumbria Integrated Care NHS Foundation Trust',\n",
       "       'North Tees And Hartlepool NHS Foundation Trust',\n",
       "       'Northern Lincolnshire And Goole NHS Foundation Trust',\n",
       "       'Northumbria Healthcare NHS Foundation Trust',\n",
       "       'Park Community Practice',\n",
       "       \"Sheffield Children's NHS Foundation Trust\",\n",
       "       'Sheffield Teaching Hospitals NHS Foundation Trust',\n",
       "       'South Tees Hospitals NHS Foundation Trust',\n",
       "       'South Tyneside And Sunderland NHS Foundation Trust',\n",
       "       'South West Yorkshire Partnership NHS Foundation Trust',\n",
       "       \"St.George's Centre\",\n",
       "       'The Newcastle Upon Tyne Hospitals NHS Foundation Trust',\n",
       "       'The Rotherham NHS Foundation Trust',\n",
       "       'The Wilberforce Health Centre', 'Workington Health Limited',\n",
       "       'York Teaching Hospital NHS Foundation Trust',\n",
       "       \"Alder Hey Children's NHS Foundation Trust\",\n",
       "       'Blackpool Teaching Hospitals NHS Foundation Trust',\n",
       "       'Bolton NHS Foundation Trust',\n",
       "       'Bridgewater Community Healthcare NHS Foundation Trust',\n",
       "       'Countess Of Chester Hospital NHS Foundation Trust',\n",
       "       'East Cheshire NHS Trust', 'East Lancashire Hospitals NHS Trust',\n",
       "       'Lancashire Teaching Hospitals NHS Foundation Trust',\n",
       "       'Liverpool Heart And Chest Hospital NHS Foundation Trust',\n",
       "       'Liverpool University Hospitals NHS Foundation Trust',\n",
       "       \"Liverpool Women's NHS Foundation Trust\",\n",
       "       'Manchester University NHS Foundation Trust',\n",
       "       'Mersey Care NHS Foundation Trust',\n",
       "       'Mid Cheshire Hospitals NHS Foundation Trust',\n",
       "       'Miriam Minor Emergency',\n",
       "       'North West Boroughs Healthcare NHS Foundation Trust',\n",
       "       'Pennine Acute Hospitals NHS Trust',\n",
       "       'Rossendale Minor Injuries Unit',\n",
       "       'Salford Royal NHS Foundation Trust',\n",
       "       'Skelmersdale Walk In Centre',\n",
       "       'Southport And Ormskirk Hospital NHS Trust',\n",
       "       'St Helens And Knowsley Teaching Hospitals NHS Trust',\n",
       "       'Stockport NHS Foundation Trust',\n",
       "       'Tameside And Glossop Integrated Care NHS Foundation Trust',\n",
       "       'The Christie NHS Foundation Trust',\n",
       "       'The Walton Centre NHS Foundation Trust',\n",
       "       'University Hospitals Of Morecambe Bay NHS Foundation Trust',\n",
       "       'Warrington And Halton Teaching Hospitals NHS Foundation Trust',\n",
       "       'Wirral Community Health And Care NHS Foundation Trust',\n",
       "       'Wirral University Teaching Hospital NHS Foundation Trust',\n",
       "       'Wrightington, Wigan And Leigh NHS Foundation Trust',\n",
       "       \"Ashford And St Peter's Hospitals NHS Foundation Trust\",\n",
       "       'Ashford Walk-In-Centre', 'Assura Reading Llp',\n",
       "       'Berkshire Healthcare NHS Foundation Trust',\n",
       "       'Bracknell Urgent Care Centre Wic',\n",
       "       'Brighton And Sussex University Hospitals NHS Trust',\n",
       "       'Brighton Station Health Centre',\n",
       "       'Buckinghamshire Healthcare NHS Trust',\n",
       "       'Dartford And Gravesham NHS Trust',\n",
       "       'East Berks Primary Care Ooh(Wam)',\n",
       "       'East Kent Hospitals University NHS Foundation Trust',\n",
       "       'East Sussex Healthcare NHS Trust',\n",
       "       'Eastbourne Station Health Centre',\n",
       "       'First Community Health And Care Cic',\n",
       "       'Frimley Health NHS Foundation Trust',\n",
       "       'Hampshire Hospitals NHS Foundation Trust',\n",
       "       'Haslemere Minor Injuries Unit', 'Hastings Med P & Walkin',\n",
       "       'Isle Of Wight NHS Trust',\n",
       "       'Kent Community Health NHS Foundation Trust',\n",
       "       'Maidstone And Tunbridge Wells NHS Trust',\n",
       "       'Medway NHS Foundation Trust',\n",
       "       'Oxford Health NHS Foundation Trust',\n",
       "       'Oxford University Hospitals NHS Foundation Trust',\n",
       "       'Phl Lymington Utc',\n",
       "       'Portsmouth Hospitals University National Health Service Trust',\n",
       "       'Queen Victoria Hospital NHS Foundation Trust',\n",
       "       'Royal Berkshire NHS Foundation Trust',\n",
       "       'Royal Surrey County Hospital NHS Foundation Trust',\n",
       "       'Southampton NHS Treatment Centre',\n",
       "       'Southern Health NHS Foundation Trust',\n",
       "       \"St Mary's NHS Treatment Centre\",\n",
       "       'Surrey And Sussex Healthcare NHS Trust',\n",
       "       'Sussex Community NHS Foundation Trust',\n",
       "       'University Hospital Southampton NHS Foundation Trust',\n",
       "       'Western Sussex Hospitals NHS Foundation Trust',\n",
       "       'Whitstable Medical Practice', 'Woking Walk In Centre',\n",
       "       'Cornwall Partnership NHS Foundation Trust',\n",
       "       'Dorset County Hospital NHS Foundation Trust',\n",
       "       'Dorset Healthcare University NHS Foundation Trust',\n",
       "       'Exmouth Minor Injury Unit',\n",
       "       'Gloucestershire Health And Care NHS Foundation Trust',\n",
       "       'Gloucestershire Hospitals NHS Foundation Trust',\n",
       "       'Great Western Hospitals NHS Foundation Trust',\n",
       "       'North Bristol NHS Trust', 'Northern Devon Healthcare NHS Trust',\n",
       "       'Okehampton Medical Centre', 'Paulton Memorial Hospital',\n",
       "       'Poole Hospital NHS Foundation Trust',\n",
       "       'Royal Cornwall Hospitals NHS Trust',\n",
       "       'Royal Devon And Exeter NHS Foundation Trust',\n",
       "       'Royal United Hospitals Bath NHS Foundation Trust',\n",
       "       'Salisbury NHS Foundation Trust', 'Sirona Care & Health',\n",
       "       'Somerset NHS Foundation Trust', 'Tetbury Hospital Trust Ltd',\n",
       "       'The Royal Bournemouth And Christchurch Hospitals NHS Foundation Trust',\n",
       "       'Torbay And South Devon NHS Foundation Trust',\n",
       "       'University Hospitals Bristol And Weston NHS Foundation Trust',\n",
       "       'University Hospitals Plymouth NHS Trust',\n",
       "       'Wiltshire Health & Care',\n",
       "       'Yeovil District Hospital NHS Foundation Trust',\n",
       "       'Bedford Hospital NHS Trust',\n",
       "       'Luton And Dunstable University Hospital NHS Foundation Trust',\n",
       "       'Luton And Dunstable Hospital NHS Foundation Trust'], dtype=object)"
      ]
     },
     "execution_count": 3,
     "metadata": {},
     "output_type": "execute_result"
    }
   ],
   "source": [
    "bw.get_names(waiting_data)"
   ]
  },
  {
   "cell_type": "code",
   "execution_count": null,
   "metadata": {},
   "outputs": [],
   "source": []
  }
 ],
 "metadata": {
  "kernelspec": {
   "display_name": "Python 3",
   "language": "python",
   "name": "python3"
  },
  "language_info": {
   "codemirror_mode": {
    "name": "ipython",
    "version": 3
   },
   "file_extension": ".py",
   "mimetype": "text/x-python",
   "name": "python",
   "nbconvert_exporter": "python",
   "pygments_lexer": "ipython3",
   "version": "3.7.6"
  }
 },
 "nbformat": 4,
 "nbformat_minor": 2
}
