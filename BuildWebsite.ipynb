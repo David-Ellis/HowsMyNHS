{
 "cells": [
  {
   "cell_type": "markdown",
   "metadata": {},
   "source": [
    "<h1><center>Build <a href=\"https://howsmynhs.co.uk/\">HowsMyNHS</a> website</center></h1>\n",
    "\n",
    "This is the main script used to automatically generate the html for <a href=\"https://howsmynhs.co.uk/\">HowsMyNHS</a>."
   ]
  },
  {
   "cell_type": "code",
   "execution_count": 1,
   "metadata": {},
   "outputs": [],
   "source": [
    "import build_website.build_website as bw\n",
    "import build_website.plot_data as pd\n",
    "\n",
    "waiting_data = '../NHSData/AnE_Data/NHSwaiting.npy'\n",
    "bed_data = '../NHSData/Bed_Data/NHSbeds.npy'\n",
    "covid_data = '../NHSData/Covid-19/covid_deaths.npy'\n",
    "news_file = './data/NHS_news_items.ods'"
   ]
  },
  {
   "cell_type": "markdown",
   "metadata": {},
   "source": [
    "<h2>Generate Plots</h2>"
   ]
  },
  {
   "cell_type": "code",
   "execution_count": 2,
   "metadata": {},
   "outputs": [
    {
     "name": "stdout",
     "output_type": "stream",
     "text": [
      "Generating 4 hour waiting time graphs... Done.\n",
      "Generating OG images ... Done.\n"
     ]
    }
   ],
   "source": [
    "pd.plotWaitingData(waiting_data)\n",
    "#pd.plotBedData(bed_data)\n",
    "#pd.plotCovidData(covid_data)\n",
    "pd.plotOGimages(waiting_data, bed_data, covid_data)"
   ]
  },
  {
   "cell_type": "markdown",
   "metadata": {},
   "source": [
    "<h2>Make homepage</h2>"
   ]
  },
  {
   "cell_type": "code",
   "execution_count": 3,
   "metadata": {},
   "outputs": [
    {
     "name": "stdout",
     "output_type": "stream",
     "text": [
      "Building homepage... Done\n"
     ]
    }
   ],
   "source": [
    "bw.MakeHomepage(waiting_data, bed_data)"
   ]
  },
  {
   "cell_type": "markdown",
   "metadata": {},
   "source": [
    "<h2>Make all the other pages</h2>"
   ]
  },
  {
   "cell_type": "code",
   "execution_count": 4,
   "metadata": {},
   "outputs": [
    {
     "name": "stdout",
     "output_type": "stream",
     "text": [
      "Building trust pages... "
     ]
    },
    {
     "ename": "IndexError",
     "evalue": "list index out of range",
     "output_type": "error",
     "traceback": [
      "\u001b[1;31m---------------------------------------------------------------------------\u001b[0m",
      "\u001b[1;31mIndexError\u001b[0m                                Traceback (most recent call last)",
      "\u001b[1;32m<ipython-input-4-1371d322f296>\u001b[0m in \u001b[0;36m<module>\u001b[1;34m\u001b[0m\n\u001b[1;32m----> 1\u001b[1;33m \u001b[0mbw\u001b[0m\u001b[1;33m.\u001b[0m\u001b[0mbuild_trust_pages\u001b[0m\u001b[1;33m(\u001b[0m\u001b[0mwaiting_data\u001b[0m\u001b[1;33m,\u001b[0m \u001b[0mbed_data\u001b[0m\u001b[1;33m,\u001b[0m \u001b[0mcovid_data\u001b[0m\u001b[1;33m,\u001b[0m \u001b[0mnews_file\u001b[0m\u001b[1;33m)\u001b[0m\u001b[1;33m\u001b[0m\u001b[1;33m\u001b[0m\u001b[0m\n\u001b[0m",
      "\u001b[1;32m~\\Documents\\Politics\\website\\build_website\\build_website.py\u001b[0m in \u001b[0;36mbuild_trust_pages\u001b[1;34m(waiting_data, beds_data, covid_data, news_file)\u001b[0m\n\u001b[0;32m    569\u001b[0m \u001b[1;33m\u001b[0m\u001b[0m\n\u001b[0;32m    570\u001b[0m             \u001b[1;32mif\u001b[0m \u001b[0mAnEblock\u001b[0m\u001b[1;33m:\u001b[0m\u001b[1;33m\u001b[0m\u001b[1;33m\u001b[0m\u001b[0m\n\u001b[1;32m--> 571\u001b[1;33m                 \u001b[0msupTextHTML\u001b[0m \u001b[1;33m+=\u001b[0m \u001b[1;34m\"<div id=\\\"AnE\\\" class=\\\"tabcontent\\\">\"\u001b[0m \u001b[1;33m+\u001b[0m \u001b[0mmake_AnE_waiting_block\u001b[0m\u001b[1;33m(\u001b[0m\u001b[0mwaiting_data\u001b[0m\u001b[1;33m,\u001b[0m \u001b[0mname\u001b[0m\u001b[1;33m)\u001b[0m \u001b[1;33m+\u001b[0m \u001b[1;34m\"</div>\\n\"\u001b[0m\u001b[1;33m\u001b[0m\u001b[1;33m\u001b[0m\u001b[0m\n\u001b[0m\u001b[0;32m    572\u001b[0m \u001b[1;33m\u001b[0m\u001b[0m\n\u001b[0;32m    573\u001b[0m             \u001b[1;32mif\u001b[0m \u001b[0mbedblock\u001b[0m\u001b[1;33m:\u001b[0m\u001b[1;33m\u001b[0m\u001b[1;33m\u001b[0m\u001b[0m\n",
      "\u001b[1;32m~\\Documents\\Politics\\website\\build_website\\build_website.py\u001b[0m in \u001b[0;36mmake_AnE_waiting_block\u001b[1;34m(data, name)\u001b[0m\n\u001b[0;32m    161\u001b[0m         \u001b[1;31m#print(dates)\u001b[0m\u001b[1;33m\u001b[0m\u001b[1;33m\u001b[0m\u001b[1;33m\u001b[0m\u001b[0m\n\u001b[0;32m    162\u001b[0m         \u001b[0msampleDates\u001b[0m \u001b[1;33m=\u001b[0m \u001b[0mdates\u001b[0m\u001b[1;33m[\u001b[0m\u001b[0mwaitingData\u001b[0m \u001b[1;33m!=\u001b[0m \u001b[1;34m'-'\u001b[0m\u001b[1;33m]\u001b[0m\u001b[1;33m\u001b[0m\u001b[1;33m\u001b[0m\u001b[0m\n\u001b[1;32m--> 163\u001b[1;33m         \u001b[0mdiff\u001b[0m \u001b[1;33m=\u001b[0m \u001b[0msmoothWait\u001b[0m\u001b[1;33m[\u001b[0m\u001b[1;36m0\u001b[0m\u001b[1;33m]\u001b[0m\u001b[1;33m-\u001b[0m\u001b[0msmoothWait\u001b[0m\u001b[1;33m[\u001b[0m\u001b[1;33m-\u001b[0m\u001b[1;36m1\u001b[0m\u001b[1;33m]\u001b[0m\u001b[1;33m\u001b[0m\u001b[1;33m\u001b[0m\u001b[0m\n\u001b[0m\u001b[0;32m    164\u001b[0m \u001b[1;33m\u001b[0m\u001b[0m\n\u001b[0;32m    165\u001b[0m         \u001b[1;32mif\u001b[0m \u001b[0mmax\u001b[0m\u001b[1;33m(\u001b[0m\u001b[0msmoothWait\u001b[0m\u001b[1;33m)\u001b[0m \u001b[1;33m<\u001b[0m \u001b[1;36m15\u001b[0m \u001b[1;32mand\u001b[0m \u001b[0mavAtt\u001b[0m\u001b[1;33m<\u001b[0m\u001b[1;36m2000\u001b[0m\u001b[1;33m:\u001b[0m\u001b[1;33m\u001b[0m\u001b[1;33m\u001b[0m\u001b[0m\n",
      "\u001b[1;31mIndexError\u001b[0m: list index out of range"
     ]
    }
   ],
   "source": [
    "bw.build_trust_pages(waiting_data, bed_data, covid_data, news_file)"
   ]
  }
 ],
 "metadata": {
  "kernelspec": {
   "display_name": "Python 3",
   "language": "python",
   "name": "python3"
  },
  "language_info": {
   "codemirror_mode": {
    "name": "ipython",
    "version": 3
   },
   "file_extension": ".py",
   "mimetype": "text/x-python",
   "name": "python",
   "nbconvert_exporter": "python",
   "pygments_lexer": "ipython3",
   "version": "3.7.6"
  }
 },
 "nbformat": 4,
 "nbformat_minor": 4
}
