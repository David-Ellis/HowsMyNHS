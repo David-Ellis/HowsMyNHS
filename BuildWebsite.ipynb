{
 "cells": [
  {
   "cell_type": "markdown",
   "metadata": {},
   "source": [
    "<h1><center>Build <a href=\"https://howsmynhs.co.uk/\">HowsMyNHS</a> website</center></h1>\n",
    "\n",
    "This is the main script used to automatically generate the html for <a href=\"https://howsmynhs.co.uk/\">HowsMyNHS</a>."
   ]
  },
  {
   "cell_type": "code",
   "execution_count": 1,
   "metadata": {},
   "outputs": [],
   "source": [
    "import build_website.build_website as bw\n",
    "import build_website.plot_data as pd\n",
    "\n",
    "waiting_data = './data/NHSwaiting.npy'\n",
    "bed_data = './data/NHSbeds.npy'\n",
    "news_file = './data/NHS_news_items.ods'"
   ]
  },
  {
   "cell_type": "markdown",
   "metadata": {},
   "source": [
    "<h2>Generate Plots</h2>"
   ]
  },
  {
   "cell_type": "code",
   "execution_count": 2,
   "metadata": {},
   "outputs": [],
   "source": [
    "#pd.plotWaitingData(waiting_data)\n",
    "#pd.plotBedData(bed_data)"
   ]
  },
  {
   "cell_type": "markdown",
   "metadata": {},
   "source": [
    "<h2>Make homepage</h2>"
   ]
  },
  {
   "cell_type": "code",
   "execution_count": 3,
   "metadata": {},
   "outputs": [
    {
     "name": "stdout",
     "output_type": "stream",
     "text": [
      "Building homepage... Done\n"
     ]
    }
   ],
   "source": [
    "bw.MakeHomepage(waiting_data, bed_data)"
   ]
  },
  {
   "cell_type": "markdown",
   "metadata": {},
   "source": [
    "<h2>Make all the other pages</h2>"
   ]
  },
  {
   "cell_type": "code",
   "execution_count": 6,
   "metadata": {},
   "outputs": [
    {
     "name": "stdout",
     "output_type": "stream",
     "text": [
      "Building trust pages... Done.\n"
     ]
    }
   ],
   "source": [
    "bw.build_trust_pages(waiting_data, bed_data, news_file)"
   ]
  },
  {
   "cell_type": "code",
   "execution_count": null,
   "metadata": {},
   "outputs": [],
   "source": []
  }
 ],
 "metadata": {
  "kernelspec": {
   "display_name": "Python 3",
   "language": "python",
   "name": "python3"
  },
  "language_info": {
   "codemirror_mode": {
    "name": "ipython",
    "version": 3
   },
   "file_extension": ".py",
   "mimetype": "text/x-python",
   "name": "python",
   "nbconvert_exporter": "python",
   "pygments_lexer": "ipython3",
   "version": "3.7.6"
  }
 },
 "nbformat": 4,
 "nbformat_minor": 4
}
